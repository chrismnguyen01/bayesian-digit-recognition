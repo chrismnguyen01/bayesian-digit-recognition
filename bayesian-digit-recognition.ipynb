{
 "cells": [
  {
   "cell_type": "markdown",
   "metadata": {},
   "source": [
    "# 1. Data Processing"
   ]
  },
  {
   "cell_type": "markdown",
   "metadata": {},
   "source": [
    "## 1.1 Import Dataset"
   ]
  },
  {
   "cell_type": "code",
   "execution_count": 105,
   "metadata": {},
   "outputs": [],
   "source": [
    "from scipy.io import loadmat\n",
    "import numpy as np\n",
    "import math\n",
    "import seaborn as sns\n",
    "import matplotlib.pyplot as plt\n",
    "\n",
    "data = loadmat('data/mnist.mat')\n",
    "train_X = data['trainX']\n",
    "train_Y = data['trainY']\n",
    "test_X = data['testX']\n",
    "test_Y = data['testY']\n",
    "\n",
    "# x shape: (471, 784)\n",
    "# one x image: (1, 784)\n",
    "# y shape: (471, 1)"
   ]
  },
  {
   "cell_type": "markdown",
   "metadata": {},
   "source": [
    "## 1.2 Data Example"
   ]
  },
  {
   "cell_type": "code",
   "execution_count": 101,
   "metadata": {},
   "outputs": [
    {
     "data": {
      "image/png": "[encoded data removed]",
      "text/plain": [
       "<Figure size 432x288 with 10 Axes>"
      ]
     },
     "metadata": {
      "needs_background": "light"
     },
     "output_type": "display_data"
    }
   ],
   "source": [
    "import matplotlib.pyplot as plt\n",
    "\n",
    "fig, ax = plt.subplots(2, 5)\n",
    "k = 0\n",
    "sample_x = [0, 47, 87, 123, 187, 230, 270, 300, 340, 470]\n",
    "for i in range(2):\n",
    "    for j in range(5):\n",
    "        ax[i][j].imshow(np.reshape(train_X[sample_x[k]], (28, 28)), cmap='gray')\n",
    "        k += 1"
   ]
  },
  {
   "cell_type": "markdown",
   "metadata": {},
   "source": [
    "## 1.3 Number Selector"
   ]
  },
  {
   "cell_type": "markdown",
   "metadata": {},
   "source": [
    "Choose desired numbers to be extracted from the data"
   ]
  },
  {
   "cell_type": "code",
   "execution_count": 61,
   "metadata": {},
   "outputs": [],
   "source": [
    "def extract_nums(input_x, input_y, nums, relabel = False):\n",
    "    '''Return arrays in x and labels in y that match nums'''\n",
    "    extracted_x = extracted_y = np.empty(0)\n",
    "    for i in range(input_y.size):\n",
    "        if input_y[i] in nums:\n",
    "            extracted_x = np.append(extracted_x, input_x[i])\n",
    "            extracted_y = np.append(extracted_y, input_y[i])\n",
    "    total = extracted_y.size\n",
    "    extracted_y = extracted_y.reshape((total, 1))\n",
    "    extracted_x = extracted_x.reshape((total, int(extracted_x.size/total)))\n",
    "    # if relabel is true, set y labels to 0 and 1 depending on nums\n",
    "    # used for tuning gradient descent\n",
    "    if relabel:\n",
    "        extracted_y[extracted_y == nums[0]] = 0\n",
    "        extracted_y[extracted_y == nums[1]] = 1\n",
    "    return extracted_x, extracted_y"
   ]
  },
  {
   "cell_type": "markdown",
   "metadata": {},
   "source": [
    "# 2. Bayesian Logisitic Regression Model"
   ]
  },
  {
   "cell_type": "markdown",
   "metadata": {},
   "source": [
    "## 2.1 Gradient of Log Likelihood"
   ]
  },
  {
   "cell_type": "markdown",
   "metadata": {},
   "source": [
    "talk about math"
   ]
  },
  {
   "cell_type": "code",
   "execution_count": 62,
   "metadata": {},
   "outputs": [],
   "source": [
    "\n",
    "def gradient(input_x, input_y, beta, sigma):\n",
    "    '''Calculate the gradient of log likelihood function'''\n",
    "    # initialize beta as nx1 array where n = size of row\n",
    "    num_points, image_size = input_x.shape\n",
    "    sigma = 1\n",
    "    dL = np.zeros((image_size, 1))\n",
    "    # for each pixel\n",
    "    for k in range(image_size):\n",
    "        # for each image\n",
    "        for i in range(num_points):\n",
    "            x = input_x[i]\n",
    "            y = input_y[i]\n",
    "            first_term = 1 - y\n",
    "            second_term = (math.e**np.matmul(-x, beta)[0])/(1 + math.e**np.matmul(-x, beta)[0])\n",
    "            dL[k][0] += (first_term - second_term) * x[k]\n",
    "        dL[k][0] += beta[k]/(sigma**2)\n",
    "    return dL"
   ]
  },
  {
   "cell_type": "markdown",
   "metadata": {},
   "source": [
    "## 2.2 Gradient Descent to Tune $\\beta$"
   ]
  },
  {
   "cell_type": "markdown",
   "metadata": {},
   "source": [
    "Tune $\\beta$ by adding the gradient of the log likelihood function."
   ]
  },
  {
   "cell_type": "code",
   "execution_count": 125,
   "metadata": {},
   "outputs": [],
   "source": [
    "def gradient_descent(x, y):\n",
    "    '''Return tuned beta after gradient descent'''\n",
    "    image_size = x.shape[1]\n",
    "    beta = np.ones((image_size, 1))\n",
    "    sigma = 1\n",
    "    # while the gradient is greater than 0.1\n",
    "    for i in range(10):\n",
    "        beta -= 0.1 * gradient(x, y, beta, sigma)\n",
    "    # beta shape: 784x1\n",
    "    return beta"
   ]
  },
  {
   "cell_type": "markdown",
   "metadata": {},
   "source": [
    "## 2.3 Tune $\\beta$ for All Combinations of X"
   ]
  },
  {
   "cell_type": "markdown",
   "metadata": {},
   "source": [
    "Run gradient descent for log likelihood to tune $\\beta$ for every binary combination of digits. Because of time constraints, the gradient descent is limited to 10 iterations. This entire process takes ~14 minutes to complete."
   ]
  },
  {
   "cell_type": "code",
   "execution_count": 126,
   "metadata": {},
   "outputs": [],
   "source": [
    "def beta_array(train_X, train_Y, nums):\n",
    "    '''Return an array with all betas for each combination of X'''\n",
    "    betas = np.ndarray(shape=(10, 10, train_X.shape[1], 1))\n",
    "    \n",
    "    for i in range(betas.shape[0] - 1):\n",
    "        for j in range(i + 1, betas.shape[0]):\n",
    "            if i != j:\n",
    "                nums = (i, j)\n",
    "                train_X_extracted, train_Y_extracted = extract_nums(train_X, train_Y, nums, True)\n",
    "                betas[i][j] = gradient_descent(train_X_extracted, train_Y_extracted)\n",
    "    return betas"
   ]
  },
  {
   "cell_type": "code",
   "execution_count": 111,
   "metadata": {},
   "outputs": [],
   "source": [
    "nums = (0, 1, 2, 3, 4, 5, 6, 7, 8, 9)\n",
    "betas = beta_array(train_X, train_Y, nums)\n"
   ]
  },
  {
   "cell_type": "markdown",
   "metadata": {},
   "source": [
    "## 2.4 Make Predictions"
   ]
  },
  {
   "cell_type": "code",
   "execution_count": 112,
   "metadata": {},
   "outputs": [],
   "source": [
    "def predict(x, beta, nums):    \n",
    "    '''Use beta to make prediction on input x given possible nums'''\n",
    "    prediction = nums[0]\n",
    "    for i in range(1, len(nums)):\n",
    "        num1 = prediction\n",
    "        num2 = nums[i]\n",
    "        ber = 1/(1 + math.e**np.matmul(-x, beta[num1][num2])[0])\n",
    "        if ber > 0.5:\n",
    "            prediction = nums[i]\n",
    "    return prediction\n",
    "\n",
    "def map_predictions(test_X, test_Y, nums, betas):\n",
    "    '''Use given beta array to predict all of test_X and return accuracy of test_Y'''\n",
    "    predictions = np.zeros((test_X.shape[0], 1))\n",
    "    # get predictions using beta\n",
    "    for i in range(test_X.shape[0]):\n",
    "        predictions[i][0] = predict(test_X[i], betas, nums)\n",
    "    counter = 0\n",
    "    # find number of correct predictions\n",
    "    for i in range(test_X.shape[0]):\n",
    "        if predictions[i][0] == test_Y[i][0]:\n",
    "            counter += 1\n",
    "    return round(100 * counter/predictions.shape[0], 2)"
   ]
  },
  {
   "cell_type": "markdown",
   "metadata": {},
   "source": [
    "Accuracy for distinguishing between 0 and 1"
   ]
  },
  {
   "cell_type": "code",
   "execution_count": 113,
   "metadata": {},
   "outputs": [
    {
     "name": "stdout",
     "output_type": "stream",
     "text": [
      "96.52%\n"
     ]
    }
   ],
   "source": [
    "nums = (0, 1)\n",
    "test_X_0_1, test_Y_0_1 = extract_nums(test_X, test_Y, nums)\n",
    "p_0_1 = map_predictions(test_X_0_1, test_Y_0_1, nums, betas)\n",
    "print('{}%'.format(p_0_1))"
   ]
  },
  {
   "cell_type": "markdown",
   "metadata": {},
   "source": [
    "Accuracy for distinguishing between 0, 1, 2, 3, and 4"
   ]
  },
  {
   "cell_type": "code",
   "execution_count": 114,
   "metadata": {},
   "outputs": [
    {
     "name": "stdout",
     "output_type": "stream",
     "text": [
      "80.23%\n"
     ]
    }
   ],
   "source": [
    "nums = (0, 1, 2, 3, 4)\n",
    "test_X_0_1_2_3_4, test_Y_0_1_2_3_4 = extract_nums(test_X, test_Y, nums)\n",
    "p_0_1_2_3_4 = map_predictions(test_X_0_1_2_3_4, test_Y_0_1_2_3_4, nums, betas)\n",
    "print('{}%'.format(p_0_1_2_3_4))"
   ]
  },
  {
   "cell_type": "markdown",
   "metadata": {},
   "source": [
    "Accuracy for distinguishing between all numbers"
   ]
  },
  {
   "cell_type": "code",
   "execution_count": 127,
   "metadata": {},
   "outputs": [
    {
     "name": "stdout",
     "output_type": "stream",
     "text": [
      "50.09%\n"
     ]
    }
   ],
   "source": [
    "nums = (0, 1, 2, 3, 4, 5, 6, 7, 8, 9)\n",
    "p = map_predictions(test_X, test_Y, nums, betas)\n",
    "print('{}%'.format(p))"
   ]
  },
  {
   "cell_type": "markdown",
   "metadata": {},
   "source": [
    "## 2.5 Accuracy Calculation and Visualization"
   ]
  },
  {
   "cell_type": "markdown",
   "metadata": {},
   "source": [
    "This is a heatmap of the accuracies of the binary classifiers."
   ]
  },
  {
   "cell_type": "code",
   "execution_count": 115,
   "metadata": {},
   "outputs": [],
   "source": [
    "accuracies = np.ndarray(shape = (10, 10))\n",
    "for i in range(10):\n",
    "    for j in range(10):\n",
    "        if i != j and i < j:\n",
    "            test_X_extracted, test_Y_extracted = extract_nums(test_X, test_Y, (i, j))\n",
    "            accuracies[i][j] = map_predictions(test_X_extracted, test_Y_extracted, (i, j), betas)"
   ]
  },
  {
   "cell_type": "code",
   "execution_count": 116,
   "metadata": {},
   "outputs": [
    {
     "data": {
      "text/plain": [
       "Text(33.0, 0.5, 'First digit')"
      ]
     },
     "execution_count": 116,
     "metadata": {},
     "output_type": "execute_result"
    },
    {
     "data": {
      "image/png": "[encoded data removed]",
      "text/plain": [
       "<Figure size 432x288 with 2 Axes>"
      ]
     },
     "metadata": {
      "needs_background": "light"
     },
     "output_type": "display_data"
    }
   ],
   "source": [
    "sns.heatmap(accuracies)\n",
    "plt.xlabel('Second digit')\n",
    "plt.ylabel('First digit')"
   ]
  },
  {
   "cell_type": "code",
   "execution_count": 117,
   "metadata": {},
   "outputs": [
    {
     "name": "stdout",
     "output_type": "stream",
     "text": [
      "Average: 74.52933333333333\n"
     ]
    }
   ],
   "source": [
    "sum = 0\n",
    "count = 0\n",
    "\n",
    "for i in range(accuracies.shape[0]):\n",
    "    for j in range(accuracies.shape[1]):\n",
    "        if i != j and i < j:\n",
    "            count += 1\n",
    "            sum += accuracies[i][j]\n",
    "average = sum / count\n",
    "print('Average: {}'.format(average))"
   ]
  },
  {
   "cell_type": "code",
   "execution_count": 118,
   "metadata": {},
   "outputs": [
    {
     "name": "stdout",
     "output_type": "stream",
     "text": [
      "Average without outliers: 92.06304347826087\n"
     ]
    }
   ],
   "source": [
    "sum = 0\n",
    "count = 0\n",
    "\n",
    "for i in range(accuracies.shape[0]):\n",
    "    for j in range(accuracies.shape[1]):\n",
    "        if i != j and i < j and accuracies[i][j] > 80:\n",
    "            count += 1\n",
    "            sum += accuracies[i][j]\n",
    "average = sum / count\n",
    "print('Average without outliers: {}'.format(average))"
   ]
  },
  {
   "cell_type": "markdown",
   "metadata": {},
   "source": [
    "The average accuracy is 94.69%. There are 2 outliers: (3, 5) and (4, 9). Without these outliers, the average accuracy is 96.50%. These outliers are expected because the digits are very similar to one another. A more complex model is needed to better distinguish between these."
   ]
  },
  {
   "cell_type": "markdown",
   "metadata": {},
   "source": [
    "# 3. Principal Component Analysis"
   ]
  },
  {
   "cell_type": "markdown",
   "metadata": {},
   "source": [
    "## 3.1 Extract Eigenvalues"
   ]
  },
  {
   "cell_type": "code",
   "execution_count": 119,
   "metadata": {},
   "outputs": [
    {
     "data": {
      "text/plain": [
       "<matplotlib.collections.PathCollection at 0x1f6ab404130>"
      ]
     },
     "execution_count": 119,
     "metadata": {},
     "output_type": "execute_result"
    },
    {
     "data": {
      "image/png": "[encoded data removed]",
      "text/plain": [
       "<Figure size 432x288 with 1 Axes>"
      ]
     },
     "metadata": {
      "needs_background": "light"
     },
     "output_type": "display_data"
    }
   ],
   "source": [
    "# get covariance\n",
    "def cov(x, y):\n",
    "    return np.sum((x - x.mean())*(y - y.mean()))/(len(x) - 1)\n",
    "\n",
    "# get covariance matrix\n",
    "def cov_mat(X):\n",
    "    arr = np.zeros((X.shape[0], X.shape[1]))\n",
    "    for i in range(X.shape[0]):\n",
    "        for j in range(X.shape[1]):\n",
    "            arr[i][j] = cov(X[i], X[j])\n",
    "    return arr\n",
    "\n",
    "col_mean = np.mean(train_X.T, axis=1)\n",
    "covariance_matrix = np.cov(train_X.T - col_mean[:,None])\n",
    "eigen_values_sorted = np.sort(np.linalg.eigh(covariance_matrix)[0])[::-1]\n",
    "\n",
    "val_x = np.arange(0, eigen_values_sorted.shape[0])\n",
    "plt.ylabel('Eigenvalue')\n",
    "plt.scatter(val_x, eigen_values_sorted)"
   ]
  },
  {
   "cell_type": "markdown",
   "metadata": {},
   "source": [
    "## 3.2 Total Variance"
   ]
  },
  {
   "cell_type": "code",
   "execution_count": 120,
   "metadata": {},
   "outputs": [
    {
     "name": "stdout",
     "output_type": "stream",
     "text": [
      "It takes 70 principal components to achieve at least 90% of the data variance\n"
     ]
    },
    {
     "data": {
      "image/png": "[encoded data removed]",
      "text/plain": [
       "<Figure size 432x288 with 1 Axes>"
      ]
     },
     "metadata": {
      "needs_background": "light"
     },
     "output_type": "display_data"
    }
   ],
   "source": [
    "total_variance = np.sum(eigen_values_sorted)\n",
    "\n",
    "data_variance = 0\n",
    "counter = 0\n",
    "sum_variance = 0\n",
    "variance_x = []\n",
    "variance_y = []\n",
    "\n",
    "PCA = 0\n",
    "PCA_data = 0\n",
    "end = False\n",
    "\n",
    "for ev in eigen_values_sorted:\n",
    "    sum_variance += ev\n",
    "    data_variance = sum_variance / total_variance\n",
    "    counter += 1\n",
    "    if end == False and data_variance > 0.9:\n",
    "        end = True\n",
    "        PCA = counter\n",
    "        PCA_data = data_variance\n",
    "    variance_x.append(counter)\n",
    "    variance_y.append(data_variance)\n",
    "\n",
    "plt.ylabel('Accumulated Variance')\n",
    "plt.axvline(x = PCA)\n",
    "plt.axhline(y = 0.9)\n",
    "plt.scatter(variance_x, variance_y)\n",
    "print('It takes %s principal components to achieve at least 90%% of the data variance' %PCA)"
   ]
  },
  {
   "cell_type": "markdown",
   "metadata": {},
   "source": [
    "## 3.3 Eigenvectors with Highest Eigenvalues"
   ]
  },
  {
   "cell_type": "code",
   "execution_count": 99,
   "metadata": {},
   "outputs": [
    {
     "data": {
      "image/png": "[encoded data removed]",
      "text/plain": [
       "<Figure size 432x288 with 10 Axes>"
      ]
     },
     "metadata": {
      "needs_background": "light"
     },
     "output_type": "display_data"
    }
   ],
   "source": [
    "eigen_values, eigen_vectors = np.linalg.eigh(covariance_matrix)\n",
    "\n",
    "idx = eigen_values.argsort()[::-1]\n",
    "eigen_values = eigen_values[idx]\n",
    "eigen_vectors = eigen_vectors[:,idx]\n",
    "fig,ax = plt.subplots(2, 5)\n",
    "k = 0\n",
    "for i in range(2):\n",
    "    for j in range(5):\n",
    "        ax[i][j].title.set_text(str(round(eigen_values[i], 4)))\n",
    "        ax[i][j].imshow(np.reshape(eigen_vectors[:,k], (28, 28)), cmap='gray')\n",
    "        k += 1"
   ]
  },
  {
   "cell_type": "markdown",
   "metadata": {},
   "source": [
    "## 3.4 Apply PCA"
   ]
  },
  {
   "cell_type": "markdown",
   "metadata": {},
   "source": [
    "Reduce the number of dimensions while keeping the variance between data points"
   ]
  },
  {
   "cell_type": "code",
   "execution_count": 121,
   "metadata": {},
   "outputs": [],
   "source": [
    "def PCA(x, y, components):\n",
    "    # get eigen values and vectors\n",
    "    num_points = x.shape[0]\n",
    "    col_mean = np.mean(x.T, axis=1)\n",
    "    covariance_matrix = np.cov(x.T - col_mean[:,None])\n",
    "\n",
    "    eigen_values, eigen_vectors = np.linalg.eigh(covariance_matrix)\n",
    "\n",
    "    idx = eigen_values.argsort()[::-1]\n",
    "    eigen_values = eigen_values[idx]\n",
    "    eigen_vectors = eigen_vectors[:,idx]\n",
    "\n",
    "    # project each image onto eigen space\n",
    "    projection = np.zeros((num_points, components))\n",
    "    for i in range(num_points):\n",
    "        for j in range(components):\n",
    "            projection[i][j] = np.matmul(x[i].T, eigen_vectors[j])\n",
    "\n",
    "    return projection, y\n",
    "\n",
    "components = 70\n",
    "train_X_reduced, train_Y_reduced = PCA(train_X, train_Y, components)\n",
    "test_X_reduced, test_Y_reduced = PCA(test_X, test_Y, components)\n"
   ]
  },
  {
   "cell_type": "markdown",
   "metadata": {},
   "source": [
    "## 3.5 Tune New $\\beta$ for PCA"
   ]
  },
  {
   "cell_type": "code",
   "execution_count": 123,
   "metadata": {},
   "outputs": [],
   "source": [
    "nums = (0, 1, 2, 3, 4, 5, 6, 7, 8, 9)\n",
    "betas_PCA = beta_array(train_X_reduced, train_Y_reduced, nums)"
   ]
  },
  {
   "cell_type": "markdown",
   "metadata": {},
   "source": [
    "## 3.6 Make Predictions"
   ]
  },
  {
   "cell_type": "markdown",
   "metadata": {},
   "source": [
    "Accuracy for distinguishing between all numbers after PCA"
   ]
  },
  {
   "cell_type": "code",
   "execution_count": 131,
   "metadata": {},
   "outputs": [
    {
     "name": "stdout",
     "output_type": "stream",
     "text": [
      "8.7%\n"
     ]
    }
   ],
   "source": [
    "p = map_predictions(test_X_reduced, test_Y_reduced, nums, betas_PCA)\n",
    "print('{}%'.format(p))"
   ]
  }
 ],
 "metadata": {
  "kernelspec": {
   "display_name": "Python 3.9.12 ('base')",
   "language": "python",
   "name": "python3"
  },
  "language_info": {
   "codemirror_mode": {
    "name": "ipython",
    "version": 3
   },
   "file_extension": ".py",
   "mimetype": "text/x-python",
   "name": "python",
   "nbconvert_exporter": "python",
   "pygments_lexer": "ipython3",
   "version": "3.9.12"
  },
  "orig_nbformat": 4,
  "vscode": {
   "interpreter": {
    "hash": "ae21a3e56bb7b7ae0242965a996818efe80fa944ec8bb60257b7c2c84d3358e6"
   }
  }
 },
 "nbformat": 4,
 "nbformat_minor": 2
}
